{
 "cells": [
  {
   "cell_type": "code",
   "execution_count": 697,
   "metadata": {},
   "outputs": [],
   "source": [
    "from utils_jlg.video_image import make_gif_1D_arrays\n",
    "import numpy as np\n",
    "from utils import evaluate_model\n",
    "import shutil\n",
    "from models import FNO_1d_time_pl, DataModulePL\n",
    "from ipywidgets import interact\n"
   ]
  },
  {
   "cell_type": "code",
   "execution_count": 899,
   "metadata": {
    "tags": []
   },
   "outputs": [],
   "source": [
    "data = DataModulePL(\"AC1d\", test_ratio = 0.25, skip_steps = 40, skip_first_n = 8)\n",
    "data.prepare_data()\n",
    "data.setup()"
   ]
  },
  {
   "cell_type": "code",
   "execution_count": 899,
   "metadata": {
    "tags": []
   },
   "outputs": [],
   "source": []
  },
  {
   "cell_type": "code",
   "execution_count": 899,
   "metadata": {
    "tags": []
   },
   "outputs": [],
   "source": []
  },
  {
   "cell_type": "code",
   "execution_count": 899,
   "metadata": {
    "tags": []
   },
   "outputs": [],
   "source": []
  },
  {
   "cell_type": "code",
   "execution_count": 899,
   "metadata": {
    "tags": []
   },
   "outputs": [],
   "source": []
  },
  {
   "cell_type": "code",
   "execution_count": 899,
   "metadata": {
    "tags": []
   },
   "outputs": [],
   "source": []
  },
  {
   "cell_type": "code",
   "execution_count": 899,
   "metadata": {
    "tags": []
   },
   "outputs": [],
   "source": []
  },
  {
   "cell_type": "code",
   "execution_count": 899,
   "metadata": {
    "tags": []
   },
   "outputs": [
    {
     "name": "stderr",
     "output_type": "stream",
     "text": [
      "\n",
      "\n",
      "  0%|                                                                                           | 0/200 [00:00<?, ?it/s]\u001b[A\u001b[A\n",
      "\n",
      " 14%|██████████▉                                                                      | 27/200 [00:00<00:00, 260.55it/s]\u001b[A\u001b[A"
     ]
    },
    {
     "name": "stdout",
     "output_type": "stream",
     "text": [
      "Loading data for AC1d\n"
     ]
    },
    {
     "name": "stderr",
     "output_type": "stream",
     "text": [
      "\n",
      "\n",
      " 27%|█████████████████████▊                                                           | 54/200 [00:00<00:00, 253.61it/s]\u001b[A\u001b[A\n",
      "\n",
      " 40%|████████████████████████████████▍                                                | 80/200 [00:00<00:00, 239.11it/s]\u001b[A\u001b[A\n",
      "\n",
      " 52%|█████████████████████████████████████████▌                                      | 104/200 [00:00<00:00, 237.51it/s]\u001b[A\u001b[A\n",
      "\n",
      " 64%|███████████████████████████████████████████████████▌                            | 129/200 [00:00<00:00, 239.55it/s]\u001b[A\u001b[A\n",
      "\n",
      " 77%|█████████████████████████████████████████████████████████████▌                  | 154/200 [00:00<00:00, 241.39it/s]\u001b[A\u001b[A\n",
      "\n",
      "100%|████████████████████████████████████████████████████████████████████████████████| 200/200 [00:00<00:00, 244.72it/s]\u001b[A\u001b[A\n",
      "\n",
      "\n",
      "100%|██████████████████████████████████████████████████████████████████████████████| 150/150 [00:00<00:00, 29189.27it/s]\u001b[A\u001b[A\n",
      "\n",
      "\n",
      "100%|████████████████████████████████████████████████████████████████████████████████| 50/50 [00:00<00:00, 21888.65it/s]\u001b[A\u001b[A"
     ]
    },
    {
     "name": "stdout",
     "output_type": "stream",
     "text": [
      "Preparing data with args skip_steps 40 max_time 500 \n",
      " shape X (1050, 1, 201) shape Y (1050, 4, 1, 201)\n",
      "Preparing data with args skip_steps 40 max_time 500 \n",
      " shape X (350, 1, 201) shape Y (350, 4, 1, 201)\n"
     ]
    },
    {
     "name": "stderr",
     "output_type": "stream",
     "text": [
      "\n",
      "/home/project/seminarDL4PDES_2/models.py:115: VisibleDeprecationWarning: Creating an ndarray from ragged nested sequences (which is a list-or-tuple of lists-or-tuples-or ndarrays with different lengths or shapes) is deprecated. If you meant to do this, you must specify 'dtype=object' when creating the ndarray.\n",
      "  return test_samples\n"
     ]
    }
   ],
   "source": []
  },
  {
   "cell_type": "markdown",
   "metadata": {
    "tags": []
   },
   "source": [
    "# Evaluate saved models"
   ]
  },
  {
   "cell_type": "code",
   "execution_count": 917,
   "metadata": {
    "tags": []
   },
   "outputs": [
    {
     "name": "stdout",
     "output_type": "stream",
     "text": [
      "Loading model <class 'models.FNO_1d_time_pl'> with hparams {'modes': 20, 'width': 30, 'norm': True, 'results_dir': '/home/project/seminarDL4PDES_2/results/AC1d_fno5', 'tol_next_step': 0.0001, 'lr': 0.001, 'weight_decay': 1e-06} epoch 400\n"
     ]
    },
    {
     "data": {
      "application/vnd.jupyter.widget-view+json": {
       "model_id": "830d6f5e68c04c8980edb55e907e61d3",
       "version_major": 2,
       "version_minor": 0
      },
      "text/plain": [
       "interactive(children=(IntSlider(value=0, description='n', max=2000), Output()), _dom_classes=('widget-interact…"
      ]
     },
     "metadata": {},
     "output_type": "display_data"
    }
   ],
   "source": [
    "data = DataModulePL(\"AC1d\", test_ratio = 0.25, skip_steps = 40, skip_first_n = 8)\n",
    "data.prepare_data()\n",
    "data.setup()\n",
    "\n",
    "\n",
    "\n",
    "\n",
    "checkpoint = \"./results/AC1d_fno5/checkpoints/last.ckpt\"\n",
    "\n",
    "model = load_model(FNO_1d_time_pl, checkpoint)\n",
    "\n",
    "@interact(n = (0,2000,1))\n",
    "def plot(n = 0):\n",
    "    \n",
    "    with torch.no_grad():\n",
    "        Xo = data.test_dataset._Y[n,0].unsqueeze(0)\n",
    "\n",
    "        X1 = data.test_dataset._Y[n,1].unsqueeze(0)\n",
    "        X2 = data.test_dataset._Y[n,2].unsqueeze(0)\n",
    "        X3 = data.test_dataset._Y[n,3].unsqueeze(0)\n",
    "\n",
    "        predo = model(Xo)\n",
    "    \n",
    "    plt.plot(Xo[0,0], color = \"black\")\n",
    "    plt.plot(X1[0,0], color = \"green\")\n",
    "    plt.plot(X2[0,0], color = \"green\")\n",
    "    plt.plot(X3[0,0], color = \"green\")\n",
    "    plt.plot(predo[0,0],\"--\",color = \"red\")\n",
    "    plt.show()"
   ]
  },
  {
   "cell_type": "code",
   "execution_count": 1001,
   "metadata": {
    "collapsed": true,
    "jupyter": {
     "outputs_hidden": true
    },
    "tags": []
   },
   "outputs": [
    {
     "name": "stderr",
     "output_type": "stream",
     "text": [
      "\n",
      "\n",
      "0it [00:00, ?it/s]\u001b[A\u001b[A\n",
      "\n",
      "\n",
      "100%|██████████████████████████████████████████████████████████████████████████████████| 30/30 [00:00<00:00, 370.62it/s]\u001b[A\u001b[A\u001b[A"
     ]
    },
    {
     "name": "stdout",
     "output_type": "stream",
     "text": [
      "Loading model <class 'models.FNO_1d_time_pl'> with hparams {'modes': 8, 'width': 10, 'norm': True, 'results_dir': '/home/project/seminarDL4PDES_2/results/AC1d_fno_small', 'tol_next_step': 0.0001, 'lr': 0.001, 'weight_decay': 1e-06} epoch 800\n",
      "Evaluating model with model.training False, saving results in FNO_1d_time_pl(\n",
      "  (criterion): L1Loss()\n",
      "  (_model): FNO1d_time(\n",
      "    (fc0): Linear(in_features=2, out_features=10, bias=True)\n",
      "    (conv0): SpectralConv1d()\n",
      "    (conv1): SpectralConv1d()\n",
      "    (conv2): SpectralConv1d()\n",
      "    (conv3): SpectralConv1d()\n",
      "    (conv4): SpectralConv1d()\n",
      "    (w0): Conv1d(10, 10, kernel_size=(1,), stride=(1,))\n",
      "    (w1): Conv1d(10, 10, kernel_size=(1,), stride=(1,))\n",
      "    (w2): Conv1d(10, 10, kernel_size=(1,), stride=(1,))\n",
      "    (w3): Conv1d(10, 10, kernel_size=(1,), stride=(1,))\n",
      "    (w4): Conv1d(10, 10, kernel_size=(1,), stride=(1,))\n",
      "    (bn0): BatchNorm1d(10, eps=1e-05, momentum=0.1, affine=True, track_running_stats=True)\n",
      "    (bn1): BatchNorm1d(10, eps=1e-05, momentum=0.1, affine=True, track_running_stats=True)\n",
      "    (bn2): BatchNorm1d(10, eps=1e-05, momentum=0.1, affine=True, track_running_stats=True)\n",
      "    (bn3): BatchNorm1d(10, eps=1e-05, momentum=0.1, affine=True, track_running_stats=True)\n",
      "    (bn4): BatchNorm1d(10, eps=1e-05, momentum=0.1, affine=True, track_running_stats=True)\n",
      "    (fc1): Linear(in_features=10, out_features=128, bias=True)\n",
      "    (fc2): Linear(in_features=128, out_features=1, bias=True)\n",
      "  )\n",
      ")\n"
     ]
    },
    {
     "name": "stderr",
     "output_type": "stream",
     "text": [
      "\n",
      "\n",
      "\n",
      "1it [00:00,  6.30it/s]\u001b[A\u001b[A\n",
      "\n",
      "\n",
      "100%|██████████████████████████████████████████████████████████████████████████████████| 28/28 [00:00<00:00, 385.55it/s]\u001b[A\u001b[A\u001b[A\n",
      "\n",
      "\n",
      "2it [00:00,  6.56it/s]\u001b[A\u001b[A\n",
      "\n",
      "\n",
      "100%|██████████████████████████████████████████████████████████████████████████████████| 29/29 [00:00<00:00, 318.20it/s]\u001b[A\u001b[A\u001b[A\n",
      "\n",
      "\n",
      "3it [00:00,  5.64it/s]\u001b[A\u001b[A\n",
      "\n",
      "\n",
      "  0%|                                                                                            | 0/29 [00:00<?, ?it/s]\u001b[A\u001b[A\u001b[A\n",
      "\n",
      "\n",
      "100%|██████████████████████████████████████████████████████████████████████████████████| 29/29 [00:00<00:00, 268.65it/s]\u001b[A\u001b[A\u001b[A\n",
      "\n",
      "\n",
      "4it [00:00,  5.10it/s]\u001b[A\u001b[A\n",
      "\n",
      "\n",
      "  0%|                                                                                            | 0/28 [00:00<?, ?it/s]\u001b[A\u001b[A\u001b[A\n",
      "\n",
      "\n",
      "100%|██████████████████████████████████████████████████████████████████████████████████| 28/28 [00:00<00:00, 166.47it/s]\u001b[A\u001b[A\u001b[A\n",
      "\n",
      "\n",
      "5it [00:00,  4.58it/s]\u001b[A\u001b[A\n",
      "\n",
      "\n",
      "100%|██████████████████████████████████████████████████████████████████████████████████| 28/28 [00:00<00:00, 326.49it/s]\u001b[A\u001b[A\u001b[A\n",
      "\n",
      "\n",
      "6it [00:01,  4.91it/s]\u001b[A\u001b[A\n",
      "\n",
      "\n",
      "100%|██████████████████████████████████████████████████████████████████████████████████| 28/28 [00:00<00:00, 343.33it/s]\u001b[A\u001b[A\u001b[A\n",
      "\n",
      "\n",
      "7it [00:01,  5.22it/s]\u001b[A\u001b[A\n",
      "\n",
      "\n",
      "100%|██████████████████████████████████████████████████████████████████████████████████| 28/28 [00:00<00:00, 324.42it/s]\u001b[A\u001b[A\u001b[A\n",
      "\n",
      "\n",
      "8it [00:01,  5.32it/s]\u001b[A\u001b[A\n",
      "\n",
      "\n",
      "100%|██████████████████████████████████████████████████████████████████████████████████| 27/27 [00:00<00:00, 346.92it/s]\u001b[A\u001b[A\u001b[A\n",
      "\n",
      "\n",
      "9it [00:01,  5.40it/s]\u001b[A\u001b[A\n",
      "\n",
      "\n",
      "  0%|                                                                                            | 0/27 [00:00<?, ?it/s]\u001b[A\u001b[A\u001b[A\n",
      "\n",
      "\n",
      "100%|██████████████████████████████████████████████████████████████████████████████████| 27/27 [00:00<00:00, 258.40it/s]\u001b[A\u001b[A\u001b[A\n",
      "\n",
      "\n",
      "10it [00:01,  5.16it/s]\u001b[A\u001b[A\n",
      "\n",
      "\n",
      "100%|██████████████████████████████████████████████████████████████████████████████████| 25/25 [00:00<00:00, 316.04it/s]\u001b[A\u001b[A\u001b[A\n",
      "\n",
      "\n",
      "11it [00:02,  5.25it/s]\u001b[A\u001b[A\n"
     ]
    }
   ],
   "source": [
    "import shutil\n",
    "checkpoint = \"./results/AC1d_fno_small/checkpoints/last.ckpt\"\n",
    "save_dir = \"./tests\"\n",
    "try:\n",
    "    shutil.rmtree(save_dir)\n",
    "except:\n",
    "    pass\n",
    "\n",
    "model = load_model(FNO_1d_time_pl, checkpoint)\n",
    "model.eval()\n",
    "evaluate_model(model.cuda(), data.get_test_samples(),save_dir = save_dir)"
   ]
  },
  {
   "cell_type": "code",
   "execution_count": 930,
   "metadata": {},
   "outputs": [],
   "source": [
    "data_val = list(data.val_dataloader())"
   ]
  },
  {
   "cell_type": "code",
   "execution_count": 1000,
   "metadata": {
    "tags": []
   },
   "outputs": [
    {
     "name": "stdout",
     "output_type": "stream",
     "text": [
      "Loading model <class 'models.FNO_1d_time_pl'> with hparams {'modes': 8, 'width': 10, 'norm': True, 'results_dir': '/home/project/seminarDL4PDES_2/results/AC1d_fno_small', 'tol_next_step': 0.0001, 'lr': 0.001, 'weight_decay': 1e-06} epoch 800\n"
     ]
    },
    {
     "data": {
      "application/vnd.jupyter.widget-view+json": {
       "model_id": "abce39a5b0cb43bebee5de96d28426dc",
       "version_major": 2,
       "version_minor": 0
      },
      "text/plain": [
       "interactive(children=(IntSlider(value=0, description='n', max=2000), Output()), _dom_classes=('widget-interact…"
      ]
     },
     "metadata": {},
     "output_type": "display_data"
    }
   ],
   "source": [
    "data_val = list(data.val_dataloader())\n",
    "\n",
    "nbatch = 1\n",
    "batch = data_val[nbatch]\n",
    "\n",
    "checkpoint = \"./results/AC1d_fno_small/checkpoints/last.ckpt\"\n",
    "\n",
    "model = load_model(FNO_1d_time_pl, checkpoint)\n",
    "\n",
    "@interact(n = (0,2000,1), step =(0,10,1))\n",
    "def plot(n = 0):\n",
    "    model.eval()\n",
    "    print(model._model.bn0.training)\n",
    "    with torch.no_grad():\n",
    "        X = batch[\"X\"][0:22]\n",
    "        predb = model(X)\n",
    "        predb = model(predb)\n",
    "        predb = model(predb)\n",
    "        realb= batch[\"Y\"][:,2,...]\n",
    "        \n",
    "        \n",
    "        pred = predb[n]\n",
    "        real = realb[n]\n",
    "         \n",
    "\n",
    "        plt.plot(real[0], color = \"green\")\n",
    "        plt.plot(pred[0],\"--\",color = \"red\")\n",
    "        plt.show()"
   ]
  }
 ],
 "metadata": {
  "kernelspec": {
   "display_name": "Python 3 (ipykernel)",
   "language": "python",
   "name": "python3"
  },
  "language_info": {
   "codemirror_mode": {
    "name": "ipython",
    "version": 3
   },
   "file_extension": ".py",
   "mimetype": "text/x-python",
   "name": "python",
   "nbconvert_exporter": "python",
   "pygments_lexer": "ipython3",
   "version": "3.8.8"
  }
 },
 "nbformat": 4,
 "nbformat_minor": 4
}
