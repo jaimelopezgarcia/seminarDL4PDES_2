{
 "cells": [
  {
   "cell_type": "code",
   "execution_count": 697,
   "metadata": {},
   "outputs": [],
   "source": [
    "from utils_jlg.video_image import make_gif_1D_arrays\n",
    "import numpy as np\n",
    "from utils import evaluate_model\n",
    "import shutil\n",
    "from models import FNO_1d_time_pl, DataModulePL\n",
    "from ipywidgets import interact\n"
   ]
  },
  {
   "cell_type": "code",
   "execution_count": 899,
   "metadata": {
    "tags": []
   },
   "outputs": [
    {
     "name": "stderr",
     "output_type": "stream",
     "text": [
      "\n",
      "\n",
      "  0%|                                                                                           | 0/200 [00:00<?, ?it/s]\u001b[A\u001b[A\n",
      "\n",
      " 14%|██████████▉                                                                      | 27/200 [00:00<00:00, 260.55it/s]\u001b[A\u001b[A"
     ]
    },
    {
     "name": "stdout",
     "output_type": "stream",
     "text": [
      "Loading data for AC1d\n"
     ]
    },
    {
     "name": "stderr",
     "output_type": "stream",
     "text": [
      "\n",
      "\n",
      " 27%|█████████████████████▊                                                           | 54/200 [00:00<00:00, 253.61it/s]\u001b[A\u001b[A\n",
      "\n",
      " 40%|████████████████████████████████▍                                                | 80/200 [00:00<00:00, 239.11it/s]\u001b[A\u001b[A\n",
      "\n",
      " 52%|█████████████████████████████████████████▌                                      | 104/200 [00:00<00:00, 237.51it/s]\u001b[A\u001b[A\n",
      "\n",
      " 64%|███████████████████████████████████████████████████▌                            | 129/200 [00:00<00:00, 239.55it/s]\u001b[A\u001b[A\n",
      "\n",
      " 77%|█████████████████████████████████████████████████████████████▌                  | 154/200 [00:00<00:00, 241.39it/s]\u001b[A\u001b[A\n",
      "\n",
      "100%|████████████████████████████████████████████████████████████████████████████████| 200/200 [00:00<00:00, 244.72it/s]\u001b[A\u001b[A\n",
      "\n",
      "\n",
      "100%|██████████████████████████████████████████████████████████████████████████████| 150/150 [00:00<00:00, 29189.27it/s]\u001b[A\u001b[A\n",
      "\n",
      "\n",
      "100%|████████████████████████████████████████████████████████████████████████████████| 50/50 [00:00<00:00, 21888.65it/s]\u001b[A\u001b[A"
     ]
    },
    {
     "name": "stdout",
     "output_type": "stream",
     "text": [
      "Preparing data with args skip_steps 40 max_time 500 \n",
      " shape X (1050, 1, 201) shape Y (1050, 4, 1, 201)\n",
      "Preparing data with args skip_steps 40 max_time 500 \n",
      " shape X (350, 1, 201) shape Y (350, 4, 1, 201)\n"
     ]
    },
    {
     "name": "stderr",
     "output_type": "stream",
     "text": [
      "\n",
      "/home/project/seminarDL4PDES_2/models.py:115: VisibleDeprecationWarning: Creating an ndarray from ragged nested sequences (which is a list-or-tuple of lists-or-tuples-or ndarrays with different lengths or shapes) is deprecated. If you meant to do this, you must specify 'dtype=object' when creating the ndarray.\n",
      "  return test_samples\n"
     ]
    }
   ],
   "source": [
    "data = DataModulePL(\"AC1d\", test_ratio = 0.25, skip_steps = 40, skip_first_n = 8)\n",
    "data.prepare_data()\n",
    "data.setup()\n",
    "\n",
    "\n"
   ]
  },
  {
   "cell_type": "code",
   "execution_count": 891,
   "metadata": {
    "tags": []
   },
   "outputs": [
    {
     "data": {
      "text/plain": [
       "torch.Size([3600, 4, 1, 201])"
      ]
     },
     "execution_count": 891,
     "metadata": {},
     "output_type": "execute_result"
    }
   ],
   "source": [
    "data.test_dataset._Y.shape"
   ]
  },
  {
   "cell_type": "code",
   "execution_count": 917,
   "metadata": {
    "tags": []
   },
   "outputs": [
    {
     "name": "stdout",
     "output_type": "stream",
     "text": [
      "Loading model <class 'models.FNO_1d_time_pl'> with hparams {'modes': 20, 'width': 30, 'norm': True, 'results_dir': '/home/project/seminarDL4PDES_2/results/AC1d_fno5', 'tol_next_step': 0.0001, 'lr': 0.001, 'weight_decay': 1e-06} epoch 400\n"
     ]
    },
    {
     "data": {
      "application/vnd.jupyter.widget-view+json": {
       "model_id": "830d6f5e68c04c8980edb55e907e61d3",
       "version_major": 2,
       "version_minor": 0
      },
      "text/plain": [
       "interactive(children=(IntSlider(value=0, description='n', max=2000), Output()), _dom_classes=('widget-interact…"
      ]
     },
     "metadata": {},
     "output_type": "display_data"
    }
   ],
   "source": [
    "checkpoint = \"./results/AC1d_fno5/checkpoints/last.ckpt\"\n",
    "\n",
    "model = load_model(FNO_1d_time_pl, checkpoint)\n",
    "\n",
    "@interact(n = (0,2000,1))\n",
    "def plot(n = 0):\n",
    "    \n",
    "    with torch.no_grad():\n",
    "        Xo = data.test_dataset._Y[n,0].unsqueeze(0)\n",
    "\n",
    "        X1 = data.test_dataset._Y[n,1].unsqueeze(0)\n",
    "        X2 = data.test_dataset._Y[n,2].unsqueeze(0)\n",
    "        X3 = data.test_dataset._Y[n,3].unsqueeze(0)\n",
    "\n",
    "        predo = model(Xo)\n",
    "    \n",
    "    plt.plot(Xo[0,0], color = \"black\")\n",
    "    plt.plot(X1[0,0], color = \"green\")\n",
    "    plt.plot(X2[0,0], color = \"green\")\n",
    "    plt.plot(X3[0,0], color = \"green\")\n",
    "    plt.plot(predo[0,0],\"--\",color = \"red\")\n",
    "    plt.show()"
   ]
  },
  {
   "cell_type": "code",
   "execution_count": 998,
   "metadata": {
    "tags": []
   },
   "outputs": [
    {
     "name": "stderr",
     "output_type": "stream",
     "text": [
      "\n",
      "\n",
      "0it [00:00, ?it/s]\u001b[A\u001b[A\n",
      "\n",
      "\n",
      "100%|██████████████████████████████████████████████████████████████████████████████████| 30/30 [00:00<00:00, 401.71it/s]\u001b[A\u001b[A\u001b[A"
     ]
    },
    {
     "name": "stdout",
     "output_type": "stream",
     "text": [
      "Loading model <class 'models.FNO_1d_time_pl'> with hparams {'modes': 20, 'width': 30, 'norm': True, 'results_dir': '/home/project/seminarDL4PDES_2/results/AC1d_fno5', 'tol_next_step': 0.0001, 'lr': 0.001, 'weight_decay': 1e-06} epoch 400\n",
      "Evaluating model with model.training False, saving results in FNO_1d_time_pl(\n",
      "  (criterion): L1Loss()\n",
      "  (_model): FNO1d_time(\n",
      "    (fc0): Linear(in_features=2, out_features=30, bias=True)\n",
      "    (conv0): SpectralConv1d()\n",
      "    (conv1): SpectralConv1d()\n",
      "    (conv2): SpectralConv1d()\n",
      "    (conv3): SpectralConv1d()\n",
      "    (conv4): SpectralConv1d()\n",
      "    (w0): Conv1d(30, 30, kernel_size=(1,), stride=(1,))\n",
      "    (w1): Conv1d(30, 30, kernel_size=(1,), stride=(1,))\n",
      "    (w2): Conv1d(30, 30, kernel_size=(1,), stride=(1,))\n",
      "    (w3): Conv1d(30, 30, kernel_size=(1,), stride=(1,))\n",
      "    (w4): Conv1d(30, 30, kernel_size=(1,), stride=(1,))\n",
      "    (bn0): BatchNorm1d(30, eps=1e-05, momentum=0.1, affine=True, track_running_stats=True)\n",
      "    (bn1): BatchNorm1d(30, eps=1e-05, momentum=0.1, affine=True, track_running_stats=True)\n",
      "    (bn2): BatchNorm1d(30, eps=1e-05, momentum=0.1, affine=True, track_running_stats=True)\n",
      "    (bn3): BatchNorm1d(30, eps=1e-05, momentum=0.1, affine=True, track_running_stats=True)\n",
      "    (bn4): BatchNorm1d(30, eps=1e-05, momentum=0.1, affine=True, track_running_stats=True)\n",
      "    (fc1): Linear(in_features=30, out_features=128, bias=True)\n",
      "    (fc2): Linear(in_features=128, out_features=1, bias=True)\n",
      "  )\n",
      ")\n"
     ]
    },
    {
     "name": "stderr",
     "output_type": "stream",
     "text": [
      "\n",
      "\n",
      "\n",
      "1it [00:00,  6.73it/s]\u001b[A\u001b[A\n",
      "\n",
      "\n",
      "100%|██████████████████████████████████████████████████████████████████████████████████| 28/28 [00:00<00:00, 369.33it/s]\u001b[A\u001b[A\u001b[A\n",
      "\n",
      "\n",
      "2it [00:00,  5.62it/s]\u001b[A\u001b[A\n",
      "\n",
      "\n",
      "100%|██████████████████████████████████████████████████████████████████████████████████| 29/29 [00:00<00:00, 332.90it/s]\u001b[A\u001b[A\u001b[A\n",
      "\n",
      "\n",
      "3it [00:00,  4.86it/s]\u001b[A\u001b[A\n",
      "\n",
      "\n",
      "100%|██████████████████████████████████████████████████████████████████████████████████| 29/29 [00:00<00:00, 309.23it/s]\u001b[A\u001b[A\u001b[A\n",
      "\n",
      "\n",
      "4it [00:00,  4.59it/s]\u001b[A\u001b[A\n",
      "\n",
      "\n",
      "100%|██████████████████████████████████████████████████████████████████████████████████| 28/28 [00:00<00:00, 298.83it/s]\u001b[A\u001b[A\u001b[A\n",
      "\n",
      "\n",
      "5it [00:01,  4.30it/s]\u001b[A\u001b[A\n",
      "\n",
      "\n",
      "100%|██████████████████████████████████████████████████████████████████████████████████| 28/28 [00:00<00:00, 364.65it/s]\u001b[A\u001b[A\u001b[A\n",
      "\n",
      "\n",
      "6it [00:01,  4.75it/s]\u001b[A\u001b[A\n",
      "\n",
      "\n",
      "100%|██████████████████████████████████████████████████████████████████████████████████| 28/28 [00:00<00:00, 328.83it/s]\u001b[A\u001b[A\u001b[A\n",
      "\n",
      "\n",
      "7it [00:01,  5.09it/s]\u001b[A\u001b[A\n",
      "\n",
      "\n",
      "100%|██████████████████████████████████████████████████████████████████████████████████| 28/28 [00:00<00:00, 356.24it/s]\u001b[A\u001b[A\u001b[A\n",
      "\n",
      "\n",
      "8it [00:01,  5.30it/s]\u001b[A\u001b[A\n",
      "\n",
      "\n",
      "100%|██████████████████████████████████████████████████████████████████████████████████| 27/27 [00:00<00:00, 301.00it/s]\u001b[A\u001b[A\u001b[A\n",
      "\n",
      "\n",
      "9it [00:01,  5.41it/s]\u001b[A\u001b[A\n",
      "\n",
      "\n",
      "  0%|                                                                                            | 0/27 [00:00<?, ?it/s]\u001b[A\u001b[A\u001b[A\n",
      "\n",
      "\n",
      "100%|██████████████████████████████████████████████████████████████████████████████████| 27/27 [00:00<00:00, 247.86it/s]\u001b[A\u001b[A\u001b[A\n",
      "\n",
      "\n",
      "10it [00:01,  5.29it/s]\u001b[A\u001b[A\n",
      "\n",
      "\n",
      "  0%|                                                                                            | 0/25 [00:00<?, ?it/s]\u001b[A\u001b[A\u001b[A\n",
      "\n",
      "\n",
      "100%|██████████████████████████████████████████████████████████████████████████████████| 25/25 [00:00<00:00, 239.75it/s]\u001b[A\u001b[A\u001b[A\n",
      "\n",
      "\n",
      "11it [00:02,  5.05it/s]\u001b[A\u001b[A\n"
     ]
    }
   ],
   "source": [
    "import shutil\n",
    "checkpoint = \"./results/AC1d_fno5/checkpoints/last.ckpt\"\n",
    "save_dir = \"./tests\"\n",
    "try:\n",
    "    shutil.rmtree(save_dir)\n",
    "except:\n",
    "    pass\n",
    "\n",
    "model = load_model(FNO_1d_time_pl, checkpoint)\n",
    "model.eval()\n",
    "evaluate_model(model.cuda(), data.get_test_samples(),save_dir = save_dir)"
   ]
  },
  {
   "cell_type": "code",
   "execution_count": 929,
   "metadata": {
    "tags": []
   },
   "outputs": [
    {
     "data": {
      "text/plain": [
       "3000"
      ]
     },
     "execution_count": 929,
     "metadata": {},
     "output_type": "execute_result"
    }
   ],
   "source": [
    "15*200"
   ]
  },
  {
   "cell_type": "code",
   "execution_count": 930,
   "metadata": {},
   "outputs": [],
   "source": [
    "data_val = list(data.val_dataloader())"
   ]
  },
  {
   "cell_type": "code",
   "execution_count": 997,
   "metadata": {},
   "outputs": [
    {
     "name": "stdout",
     "output_type": "stream",
     "text": [
      "Loading model <class 'models.FNO_1d_time_pl'> with hparams {'modes': 20, 'width': 30, 'norm': True, 'results_dir': '/home/project/seminarDL4PDES_2/results/AC1d_fno5', 'tol_next_step': 0.0001, 'lr': 0.001, 'weight_decay': 1e-06} epoch 400\n"
     ]
    },
    {
     "data": {
      "application/vnd.jupyter.widget-view+json": {
       "model_id": "307e6cb8897a4b4aa70cf5ed12b624e3",
       "version_major": 2,
       "version_minor": 0
      },
      "text/plain": [
       "interactive(children=(IntSlider(value=0, description='n', max=2000), Output()), _dom_classes=('widget-interact…"
      ]
     },
     "metadata": {},
     "output_type": "display_data"
    }
   ],
   "source": [
    "nbatch = 1\n",
    "batch = data_val[nbatch]\n",
    "\n",
    "checkpoint = \"./results/AC1d_fno5/checkpoints/last.ckpt\"\n",
    "\n",
    "model = load_model(FNO_1d_time_pl, checkpoint)\n",
    "\n",
    "@interact(n = (0,2000,1), step =(0,10,1))\n",
    "def plot(n = 0):\n",
    "    model.eval()\n",
    "    print(model._model.bn0.training)\n",
    "    with torch.no_grad():\n",
    "        X = batch[\"X\"][0:22]\n",
    "        predb = model(X)\n",
    "        predb = model(predb)\n",
    "        predb = model(predb)\n",
    "        realb= batch[\"Y\"][:,2,...]\n",
    "        \n",
    "        \n",
    "        pred = predb[n]\n",
    "        real = realb[n]\n",
    "         \n",
    "\n",
    "        plt.plot(real[0], color = \"green\")\n",
    "        plt.plot(pred[0],\"--\",color = \"red\")\n",
    "        plt.show()"
   ]
  },
  {
   "cell_type": "code",
   "execution_count": 935,
   "metadata": {},
   "outputs": [],
   "source": [
    "nbatch = 0\n",
    "batch = data_val[nbatch]\n",
    "\n",
    "checkpoint = \"./results/AC1d_fno5/checkpoints/last.ckpt\"\n",
    "\n",
    "model = load_model(FNO_1d_time_pl, checkpoint)\n",
    "\n",
    "\n",
    "X = batch[\"X\"]\n",
    "with torch.no_grad():\n",
    "    predb = model(X)"
   ]
  },
  {
   "cell_type": "code",
   "execution_count": 935,
   "metadata": {},
   "outputs": [],
   "source": [
    "model._model.bn"
   ]
  },
  {
   "cell_type": "code",
   "execution_count": 953,
   "metadata": {},
   "outputs": [],
   "source": [
    "model._model.bn2.running_mean\n",
    "model._model.bn2.running_var"
   ]
  },
  {
   "cell_type": "code",
   "execution_count": 984,
   "metadata": {},
   "outputs": [
    {
     "data": {
      "text/plain": [
       "True"
      ]
     },
     "execution_count": 984,
     "metadata": {},
     "output_type": "execute_result"
    }
   ],
   "source": [
    "model._model.bn0.track_running_stats"
   ]
  },
  {
   "cell_type": "code",
   "execution_count": 946,
   "metadata": {},
   "outputs": [
    {
     "data": {
      "text/plain": [
       "['T_destination',\n",
       " '__annotations__',\n",
       " '__call__',\n",
       " '__class__',\n",
       " '__constants__',\n",
       " '__delattr__',\n",
       " '__dict__',\n",
       " '__dir__',\n",
       " '__doc__',\n",
       " '__eq__',\n",
       " '__format__',\n",
       " '__ge__',\n",
       " '__getattr__',\n",
       " '__getattribute__',\n",
       " '__gt__',\n",
       " '__hash__',\n",
       " '__init__',\n",
       " '__init_subclass__',\n",
       " '__le__',\n",
       " '__lt__',\n",
       " '__module__',\n",
       " '__ne__',\n",
       " '__new__',\n",
       " '__reduce__',\n",
       " '__reduce_ex__',\n",
       " '__repr__',\n",
       " '__setattr__',\n",
       " '__setstate__',\n",
       " '__sizeof__',\n",
       " '__slotnames__',\n",
       " '__str__',\n",
       " '__subclasshook__',\n",
       " '__weakref__',\n",
       " '_apply',\n",
       " '_backward_hooks',\n",
       " '_buffers',\n",
       " '_call_impl',\n",
       " '_check_input_dim',\n",
       " '_forward_hooks',\n",
       " '_forward_pre_hooks',\n",
       " '_get_backward_hooks',\n",
       " '_get_name',\n",
       " '_is_full_backward_hook',\n",
       " '_load_from_state_dict',\n",
       " '_load_state_dict_pre_hooks',\n",
       " '_maybe_warn_non_full_backward_hook',\n",
       " '_modules',\n",
       " '_named_members',\n",
       " '_non_persistent_buffers_set',\n",
       " '_parameters',\n",
       " '_register_load_state_dict_pre_hook',\n",
       " '_register_state_dict_hook',\n",
       " '_replicate_for_data_parallel',\n",
       " '_save_to_state_dict',\n",
       " '_slow_forward',\n",
       " '_state_dict_hooks',\n",
       " '_version',\n",
       " 'add_module',\n",
       " 'affine',\n",
       " 'apply',\n",
       " 'bfloat16',\n",
       " 'bias',\n",
       " 'buffers',\n",
       " 'children',\n",
       " 'cpu',\n",
       " 'cuda',\n",
       " 'double',\n",
       " 'dump_patches',\n",
       " 'eps',\n",
       " 'eval',\n",
       " 'extra_repr',\n",
       " 'float',\n",
       " 'forward',\n",
       " 'half',\n",
       " 'load_state_dict',\n",
       " 'modules',\n",
       " 'momentum',\n",
       " 'named_buffers',\n",
       " 'named_children',\n",
       " 'named_modules',\n",
       " 'named_parameters',\n",
       " 'num_batches_tracked',\n",
       " 'num_features',\n",
       " 'parameters',\n",
       " 'register_backward_hook',\n",
       " 'register_buffer',\n",
       " 'register_forward_hook',\n",
       " 'register_forward_pre_hook',\n",
       " 'register_full_backward_hook',\n",
       " 'register_parameter',\n",
       " 'requires_grad_',\n",
       " 'reset_parameters',\n",
       " 'reset_running_stats',\n",
       " 'running_mean',\n",
       " 'running_var',\n",
       " 'share_memory',\n",
       " 'state_dict',\n",
       " 'to',\n",
       " 'track_running_stats',\n",
       " 'train',\n",
       " 'training',\n",
       " 'type',\n",
       " 'weight',\n",
       " 'xpu',\n",
       " 'zero_grad']"
      ]
     },
     "execution_count": 946,
     "metadata": {},
     "output_type": "execute_result"
    }
   ],
   "source": [
    "dir(model._model.bn0)"
   ]
  },
  {
   "cell_type": "code",
   "execution_count": 944,
   "metadata": {},
   "outputs": [
    {
     "data": {
      "text/plain": [
       "[('weight',\n",
       "  Parameter containing:\n",
       "  tensor([1.0069, 0.9740, 1.0091, 1.0387, 1.0546, 1.0346, 1.0370, 1.0102, 1.0211,\n",
       "          1.0090, 0.9797, 0.9405, 0.9778, 0.9572, 1.0400, 0.9599, 0.9941, 0.9861,\n",
       "          1.0244, 0.9459, 0.9680, 0.9633, 1.0078, 0.9641, 1.0196, 1.0293, 0.9098,\n",
       "          0.9510, 1.0079, 0.9513], requires_grad=True)),\n",
       " ('bias',\n",
       "  Parameter containing:\n",
       "  tensor([ 0.0621, -0.0312,  0.0805,  0.0962,  0.1494,  0.1439,  0.0199,  0.0171,\n",
       "           0.0403,  0.0740, -0.0215, -0.0549,  0.0624, -0.0194,  0.0450,  0.0129,\n",
       "          -0.0136, -0.0409,  0.0660, -0.0314, -0.0353, -0.0529,  0.0375,  0.0357,\n",
       "           0.0774,  0.0530, -0.0648, -0.0685,  0.0200, -0.0349],\n",
       "         requires_grad=True))]"
      ]
     },
     "execution_count": 944,
     "metadata": {},
     "output_type": "execute_result"
    }
   ],
   "source": [
    "list(model._model.bn0.named_parameters())"
   ]
  },
  {
   "cell_type": "code",
   "execution_count": 940,
   "metadata": {},
   "outputs": [
    {
     "data": {
      "text/plain": [
       "['T_destination',\n",
       " '__annotations__',\n",
       " '__call__',\n",
       " '__class__',\n",
       " '__delattr__',\n",
       " '__dict__',\n",
       " '__dir__',\n",
       " '__doc__',\n",
       " '__eq__',\n",
       " '__format__',\n",
       " '__ge__',\n",
       " '__getattr__',\n",
       " '__getattribute__',\n",
       " '__gt__',\n",
       " '__hash__',\n",
       " '__init__',\n",
       " '__init_subclass__',\n",
       " '__le__',\n",
       " '__lt__',\n",
       " '__module__',\n",
       " '__ne__',\n",
       " '__new__',\n",
       " '__reduce__',\n",
       " '__reduce_ex__',\n",
       " '__repr__',\n",
       " '__setattr__',\n",
       " '__setstate__',\n",
       " '__sizeof__',\n",
       " '__str__',\n",
       " '__subclasshook__',\n",
       " '__weakref__',\n",
       " '_apply',\n",
       " '_backward_hooks',\n",
       " '_buffers',\n",
       " '_call_impl',\n",
       " '_forward_hooks',\n",
       " '_forward_pre_hooks',\n",
       " '_get_backward_hooks',\n",
       " '_get_name',\n",
       " '_is_full_backward_hook',\n",
       " '_load_from_state_dict',\n",
       " '_load_state_dict_pre_hooks',\n",
       " '_maybe_warn_non_full_backward_hook',\n",
       " '_modules',\n",
       " '_named_members',\n",
       " '_non_persistent_buffers_set',\n",
       " '_parameters',\n",
       " '_register_load_state_dict_pre_hook',\n",
       " '_register_state_dict_hook',\n",
       " '_replicate_for_data_parallel',\n",
       " '_save_to_state_dict',\n",
       " '_slow_forward',\n",
       " '_state_dict_hooks',\n",
       " '_version',\n",
       " 'add_module',\n",
       " 'apply',\n",
       " 'bfloat16',\n",
       " 'bn0',\n",
       " 'bn1',\n",
       " 'bn2',\n",
       " 'bn3',\n",
       " 'bn4',\n",
       " 'buffers',\n",
       " 'children',\n",
       " 'conv0',\n",
       " 'conv1',\n",
       " 'conv2',\n",
       " 'conv3',\n",
       " 'conv4',\n",
       " 'cpu',\n",
       " 'cuda',\n",
       " 'double',\n",
       " 'dump_patches',\n",
       " 'eval',\n",
       " 'extra_repr',\n",
       " 'fc0',\n",
       " 'fc1',\n",
       " 'fc2',\n",
       " 'float',\n",
       " 'forward',\n",
       " 'get_grid',\n",
       " 'half',\n",
       " 'load_state_dict',\n",
       " 'modes1',\n",
       " 'modules',\n",
       " 'named_buffers',\n",
       " 'named_children',\n",
       " 'named_modules',\n",
       " 'named_parameters',\n",
       " 'padding',\n",
       " 'parameters',\n",
       " 'register_backward_hook',\n",
       " 'register_buffer',\n",
       " 'register_forward_hook',\n",
       " 'register_forward_pre_hook',\n",
       " 'register_full_backward_hook',\n",
       " 'register_parameter',\n",
       " 'requires_grad_',\n",
       " 'share_memory',\n",
       " 'state_dict',\n",
       " 'to',\n",
       " 'train',\n",
       " 'training',\n",
       " 'type',\n",
       " 'w0',\n",
       " 'w1',\n",
       " 'w2',\n",
       " 'w3',\n",
       " 'w4',\n",
       " 'width',\n",
       " 'xpu',\n",
       " 'zero_grad']"
      ]
     },
     "execution_count": 940,
     "metadata": {},
     "output_type": "execute_result"
    }
   ],
   "source": [
    "dir(model._model)"
   ]
  }
 ],
 "metadata": {
  "kernelspec": {
   "display_name": "Python 3 (ipykernel)",
   "language": "python",
   "name": "python3"
  },
  "language_info": {
   "codemirror_mode": {
    "name": "ipython",
    "version": 3
   },
   "file_extension": ".py",
   "mimetype": "text/x-python",
   "name": "python",
   "nbconvert_exporter": "python",
   "pygments_lexer": "ipython3",
   "version": "3.8.8"
  }
 },
 "nbformat": 4,
 "nbformat_minor": 4
}
